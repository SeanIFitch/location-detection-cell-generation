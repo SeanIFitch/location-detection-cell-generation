{
 "cells": [
  {
   "cell_type": "code",
   "id": "initial_id",
   "metadata": {
    "collapsed": true,
    "ExecuteTime": {
     "end_time": "2024-07-17T13:18:15.819837Z",
     "start_time": "2024-07-17T13:18:15.778562Z"
    }
   },
   "source": [
    "import csv\n",
    "import numpy as np\n",
    "from datetime import datetime\n"
   ],
   "outputs": [],
   "execution_count": 1
  },
  {
   "metadata": {
    "ExecuteTime": {
     "end_time": "2024-07-17T13:18:15.838650Z",
     "start_time": "2024-07-17T13:18:15.820932Z"
    }
   },
   "cell_type": "code",
   "source": [
    "cell_index_to_info = []\n",
    "with open('gv-data/cell_towers.csv', mode='r') as file:\n",
    "    csv_reader = csv.DictReader(file)\n",
    "    \n",
    "    for row in csv_reader:\n",
    "        cell_index = row['cell_index']\n",
    "        cell_index_to_info.append({\n",
    "            'mcc': row['mcc'],\n",
    "            'mnc': row['mnc'],\n",
    "            'area_code': row['area_code'],\n",
    "            'cell_id': row['cell_id']\n",
    "        })\n"
   ],
   "id": "5bde63d14f061568",
   "outputs": [],
   "execution_count": 2
  },
  {
   "metadata": {
    "ExecuteTime": {
     "end_time": "2024-07-17T13:32:31.034857Z",
     "start_time": "2024-07-17T13:32:31.007133Z"
    }
   },
   "cell_type": "code",
   "source": [
    "start = datetime(2024, 7, 1).timestamp()\n",
    "stop = datetime(2024, 7, 10).timestamp()\n",
    "\n",
    "num_towers = len(cell_index_to_info)\n",
    "times = np.linspace(start, stop, num_towers)\n",
    "\n",
    "towers = np.array(range(num_towers)) + 1\n",
    "\n",
    "formatted_trajectory = [{\n",
    "    'uuid': '8628622e-851e-42a1-875a-527d4af7f7a8',  # gv-all-towers-july-0 uuid\n",
    "    'time': round(times[i], 3),\n",
    "    'mcc': cell_index_to_info[towers[i] - 1]['mcc'],\n",
    "    'mnc': cell_index_to_info[towers[i] - 1]['mnc'],\n",
    "    'area_code': cell_index_to_info[towers[i] - 1]['area_code'],\n",
    "    'cell_id': cell_index_to_info[towers[i] - 1]['cell_id']\n",
    "} for i in range(len(times))]\n",
    "\n",
    "csv_file_name = 'gv-data/synthetic/all_towers.csv'\n",
    "\n",
    "# Define the field names for the CSV\n",
    "fieldnames = ['uuid', 'time', 'mcc', 'mnc', 'area_code', 'cell_id']\n",
    "\n",
    "# Write to the CSV file\n",
    "with open(csv_file_name, 'w', newline='') as csvfile:\n",
    "    writer = csv.DictWriter(csvfile, fieldnames=fieldnames)\n",
    "    \n",
    "    # Write the header\n",
    "    writer.writeheader()\n",
    "    \n",
    "    # Write the data rows\n",
    "    for row in formatted_trajectory:\n",
    "        writer.writerow(row)\n"
   ],
   "id": "e0786dd405314a4a",
   "outputs": [],
   "execution_count": 12
  },
  {
   "metadata": {},
   "cell_type": "code",
   "outputs": [],
   "execution_count": null,
   "source": "",
   "id": "2c90f08c6716cf00"
  }
 ],
 "metadata": {
  "kernelspec": {
   "display_name": "Python 3",
   "language": "python",
   "name": "python3"
  },
  "language_info": {
   "codemirror_mode": {
    "name": "ipython",
    "version": 2
   },
   "file_extension": ".py",
   "mimetype": "text/x-python",
   "name": "python",
   "nbconvert_exporter": "python",
   "pygments_lexer": "ipython2",
   "version": "2.7.6"
  }
 },
 "nbformat": 4,
 "nbformat_minor": 5
}
